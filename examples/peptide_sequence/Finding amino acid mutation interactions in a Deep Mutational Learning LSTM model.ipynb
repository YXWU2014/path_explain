{
 "cells": [
  {
   "cell_type": "markdown",
   "metadata": {},
   "source": [
    "This notebook shows how the embedding explainer can be used to understand the interactions between mutations in the ACE2 receptor-binding domain (RBD) of the viral spike protein in SARS-CoV-2, a primary target site for neutralizing antibodies.\n",
    "\n",
    "We first reproduce the LSTM recurrent neural network model described in the recent pre-print [\"Predictive profiling of SARS-CoV-2 variants by deep mutational learning\"](https://www.biorxiv.org/content/10.1101/2021.12.07.471580v1.full), and then use the PathExpain embedding explainer to calculate Expected Hessians values and identify the combinatorial impact of different amino acid changes on functional ACE2 binding. Shown below is Fig. 1 from that paper.\n"
   ]
  },
  {
   "cell_type": "markdown",
   "metadata": {},
   "source": [
    "![Fig1](fig1_DML_paper.png)\n"
   ]
  },
  {
   "cell_type": "code",
   "execution_count": 1,
   "metadata": {},
   "outputs": [],
   "source": [
    "import torch\n",
    "import numpy as np\n",
    "import pandas as pd\n",
    "import torch.nn.functional as F\n",
    "import torch.nn as nn\n",
    "import torch.optim as optim"
   ]
  },
  {
   "cell_type": "markdown",
   "metadata": {},
   "source": [
    "# Loading Data And Training the Model\n"
   ]
  },
  {
   "cell_type": "code",
   "execution_count": 2,
   "metadata": {},
   "outputs": [],
   "source": [
    "##\n",
    "# This is the ace2 functional binding data from\n",
    "# STable 4 in the paper: https://www.biorxiv.org/content/biorxiv/early/2021/12/09/2021.12.07.471580/DC2/embed/media-2.zip?download=true\n",
    "##\n",
    "\n",
    "##\n",
    "# If you want to run this yourself, obviously you'll want to fix the filepath\n",
    "# to wherever you download the data.\n",
    "##\n",
    "\n",
    "ace2_train = pd.read_csv(\n",
    "    '/Users/jjanizek/Downloads/Train:Test Sequences/ACE2_train_data.csv', index_col=0)\n",
    "ace2_val = pd.read_csv(\n",
    "    '/Users/jjanizek/Downloads/Train:Test Sequences/ACE2_test_data.csv', index_col=0)\n"
   ]
  },
  {
   "cell_type": "code",
   "execution_count": 3,
   "metadata": {},
   "outputs": [],
   "source": [
    "##\n",
    "# Replicating the Deep Mutational Learning LSTM model as described in the paper using PyTorch.\n",
    "# Authors describe a 3 layer stacked LSTM with the following hyperparameters.\n",
    "##\n",
    "\n",
    "class DML(nn.Module):\n",
    "    def __init__(self, sequence_L, embedding_dim,\n",
    "                 n_hidden=40, n_layers=3, dropout=0.2,\n",
    "                 dense_nodes=50):\n",
    "        super(DML, self).__init__()\n",
    "\n",
    "        self.sequence_L = sequence_L\n",
    "        self.embedding_dim = embedding_dim\n",
    "        self.n_hidden = n_hidden\n",
    "\n",
    "        self.lstm_layers = nn.LSTM(embedding_dim, n_hidden,\n",
    "                                   n_layers, dropout=dropout)\n",
    "        self.dense_layers = torch.nn.Sequential(\n",
    "            torch.nn.Linear(n_hidden*sequence_L, dense_nodes),\n",
    "            torch.nn.Sigmoid(),\n",
    "            torch.nn.Linear(dense_nodes, 1)\n",
    "        )\n",
    "\n",
    "    # return the pre-sigmoid output for explanation\n",
    "    def network(self, x):\n",
    "        lstm_output = self.lstm_layers(x)[0]\n",
    "        dense_output = self.dense_layers(\n",
    "            lstm_output.view(-1, self.n_hidden*self.sequence_L))\n",
    "        return dense_output\n",
    "\n",
    "    # classification output\n",
    "    def forward(self, x):\n",
    "        return torch.sigmoid(self.network(x))\n"
   ]
  },
  {
   "cell_type": "code",
   "execution_count": 4,
   "metadata": {},
   "outputs": [],
   "source": [
    "##\n",
    "# Functions to do one-hot encoding of the viral amino acid sequences,\n",
    "# as described in the paper. Note that any kind of embedding (like BLOSUM matrices)\n",
    "# could in principle be used here (and may improve performance)\n",
    "##\n",
    "\n",
    "\n",
    "canonical_amino_acids = ['A', 'R', 'N', 'D', 'C', 'E', 'Q', 'G', 'H', 'I',\n",
    "                         'L', 'K', 'M', 'F', 'P', 'S', 'T', 'W', 'Y', 'V']\n",
    "\n",
    "\n",
    "def single_peptide_onehot(peptide, amino_acid_set):\n",
    "    output_encoding = np.zeros((len(peptide), len(amino_acid_set)))\n",
    "    for i, amino_acid in enumerate(peptide):\n",
    "        output_encoding[i, canonical_amino_acids.index(amino_acid)] = 1\n",
    "    return output_encoding\n",
    "\n",
    "\n",
    "def batch_encoding(list_of_peptides):\n",
    "    X = np.zeros((len(list_of_peptides), len(list_of_peptides[0]),\n",
    "                  len(canonical_amino_acids)))\n",
    "    for i, peptide in enumerate(list_of_peptides):\n",
    "        X[i, :, :] = single_peptide_onehot(peptide, canonical_amino_acids)\n",
    "\n",
    "    return X\n"
   ]
  },
  {
   "cell_type": "code",
   "execution_count": 5,
   "metadata": {},
   "outputs": [],
   "source": [
    "# one hot encode all of the training sequences\n",
    "\n",
    "one_hot_sequences = batch_encoding(ace2_train.junction_aa.values)\n"
   ]
  },
  {
   "cell_type": "code",
   "execution_count": 6,
   "metadata": {},
   "outputs": [
    {
     "data": {
      "text/plain": [
       "'KNAGFNCYNPLETYGFWRTGGVDW'"
      ]
     },
     "execution_count": 6,
     "metadata": {},
     "output_type": "execute_result"
    }
   ],
   "source": [
    "# original data is a string of amino acids\n",
    "\n",
    "ace2_train.junction_aa.values[0]\n"
   ]
  },
  {
   "cell_type": "code",
   "execution_count": 7,
   "metadata": {},
   "outputs": [
    {
     "data": {
      "text/plain": [
       "array([[0., 0., 0., 0., 0., 0., 0., 0., 0., 0., 0., 1., 0., 0., 0., 0.,\n",
       "        0., 0., 0., 0.],\n",
       "       [0., 0., 1., 0., 0., 0., 0., 0., 0., 0., 0., 0., 0., 0., 0., 0.,\n",
       "        0., 0., 0., 0.],\n",
       "       [1., 0., 0., 0., 0., 0., 0., 0., 0., 0., 0., 0., 0., 0., 0., 0.,\n",
       "        0., 0., 0., 0.],\n",
       "       [0., 0., 0., 0., 0., 0., 0., 1., 0., 0., 0., 0., 0., 0., 0., 0.,\n",
       "        0., 0., 0., 0.],\n",
       "       [0., 0., 0., 0., 0., 0., 0., 0., 0., 0., 0., 0., 0., 1., 0., 0.,\n",
       "        0., 0., 0., 0.],\n",
       "       [0., 0., 1., 0., 0., 0., 0., 0., 0., 0., 0., 0., 0., 0., 0., 0.,\n",
       "        0., 0., 0., 0.],\n",
       "       [0., 0., 0., 0., 1., 0., 0., 0., 0., 0., 0., 0., 0., 0., 0., 0.,\n",
       "        0., 0., 0., 0.],\n",
       "       [0., 0., 0., 0., 0., 0., 0., 0., 0., 0., 0., 0., 0., 0., 0., 0.,\n",
       "        0., 0., 1., 0.],\n",
       "       [0., 0., 1., 0., 0., 0., 0., 0., 0., 0., 0., 0., 0., 0., 0., 0.,\n",
       "        0., 0., 0., 0.],\n",
       "       [0., 0., 0., 0., 0., 0., 0., 0., 0., 0., 0., 0., 0., 0., 1., 0.,\n",
       "        0., 0., 0., 0.],\n",
       "       [0., 0., 0., 0., 0., 0., 0., 0., 0., 0., 1., 0., 0., 0., 0., 0.,\n",
       "        0., 0., 0., 0.],\n",
       "       [0., 0., 0., 0., 0., 1., 0., 0., 0., 0., 0., 0., 0., 0., 0., 0.,\n",
       "        0., 0., 0., 0.],\n",
       "       [0., 0., 0., 0., 0., 0., 0., 0., 0., 0., 0., 0., 0., 0., 0., 0.,\n",
       "        1., 0., 0., 0.],\n",
       "       [0., 0., 0., 0., 0., 0., 0., 0., 0., 0., 0., 0., 0., 0., 0., 0.,\n",
       "        0., 0., 1., 0.],\n",
       "       [0., 0., 0., 0., 0., 0., 0., 1., 0., 0., 0., 0., 0., 0., 0., 0.,\n",
       "        0., 0., 0., 0.],\n",
       "       [0., 0., 0., 0., 0., 0., 0., 0., 0., 0., 0., 0., 0., 1., 0., 0.,\n",
       "        0., 0., 0., 0.],\n",
       "       [0., 0., 0., 0., 0., 0., 0., 0., 0., 0., 0., 0., 0., 0., 0., 0.,\n",
       "        0., 1., 0., 0.],\n",
       "       [0., 1., 0., 0., 0., 0., 0., 0., 0., 0., 0., 0., 0., 0., 0., 0.,\n",
       "        0., 0., 0., 0.],\n",
       "       [0., 0., 0., 0., 0., 0., 0., 0., 0., 0., 0., 0., 0., 0., 0., 0.,\n",
       "        1., 0., 0., 0.],\n",
       "       [0., 0., 0., 0., 0., 0., 0., 1., 0., 0., 0., 0., 0., 0., 0., 0.,\n",
       "        0., 0., 0., 0.],\n",
       "       [0., 0., 0., 0., 0., 0., 0., 1., 0., 0., 0., 0., 0., 0., 0., 0.,\n",
       "        0., 0., 0., 0.],\n",
       "       [0., 0., 0., 0., 0., 0., 0., 0., 0., 0., 0., 0., 0., 0., 0., 0.,\n",
       "        0., 0., 0., 1.],\n",
       "       [0., 0., 0., 1., 0., 0., 0., 0., 0., 0., 0., 0., 0., 0., 0., 0.,\n",
       "        0., 0., 0., 0.],\n",
       "       [0., 0., 0., 0., 0., 0., 0., 0., 0., 0., 0., 0., 0., 0., 0., 0.,\n",
       "        0., 1., 0., 0.]])"
      ]
     },
     "execution_count": 7,
     "metadata": {},
     "output_type": "execute_result"
    }
   ],
   "source": [
    "# one hot embedding of the same sequence\n",
    "one_hot_sequences[0]\n"
   ]
  },
  {
   "cell_type": "code",
   "execution_count": 8,
   "metadata": {},
   "outputs": [],
   "source": [
    "# do the same encoding for the val set sequences\n",
    "one_hot_sequences_val = batch_encoding(ace2_val.junction_aa.values)\n"
   ]
  },
  {
   "cell_type": "code",
   "execution_count": 9,
   "metadata": {},
   "outputs": [],
   "source": [
    "# load the labels in\n",
    "# where positive indicates sequences that bind ACE2\n",
    "# and negative class indicates non-binding sequences\n",
    "\n",
    "y = ace2_train.Label.values\n",
    "y_val = ace2_val.Label.values\n"
   ]
  },
  {
   "cell_type": "code",
   "execution_count": 10,
   "metadata": {},
   "outputs": [],
   "source": [
    "##\n",
    "# Create a pytorch dataset object to hold features and labels\n",
    "##\n",
    "\n",
    "from torch.utils.data import Dataset, DataLoader\n",
    "\n",
    "\n",
    "class RBDData(Dataset):\n",
    "\n",
    "    def __init__(self, X, c=None, y=None, transform=None):\n",
    "        self.X = X\n",
    "        self.y = y\n",
    "        self.c = c\n",
    "        self.transform = transform\n",
    "\n",
    "    def __len__(self):\n",
    "        return self.X.shape[0]\n",
    "\n",
    "    def __getitem__(self, index):\n",
    "        sample = self.X[index, :]\n",
    "\n",
    "        if self.transform is not None:\n",
    "            sample = self.transform(sample)\n",
    "\n",
    "        if self.y is not None and self.c is not None:\n",
    "            return sample, self.y[index], self.c[index]\n",
    "        if self.y is None and self.c is not None:\n",
    "            return sample, self.c[index]\n",
    "        if self.y is not None and self.c is None:\n",
    "            return sample, self.y[index]\n",
    "        else:\n",
    "            return sample\n"
   ]
  },
  {
   "cell_type": "code",
   "execution_count": 11,
   "metadata": {},
   "outputs": [],
   "source": [
    "rbd_train = RBDData(one_hot_sequences, y=y)\n",
    "rbd_val = RBDData(one_hot_sequences_val, y=y_val)\n"
   ]
  },
  {
   "cell_type": "code",
   "execution_count": 12,
   "metadata": {},
   "outputs": [],
   "source": [
    "##\n",
    "# functions to calculate train and val loss for the model for a single epoch\n",
    "##\n",
    "\n",
    "def train_epoch(model, optimizer, train_dataloader):\n",
    "    loss_fn = nn.BCELoss()\n",
    "    model.train()\n",
    "    train_loss = 0\n",
    "    for batch_idx, data in enumerate(train_dataloader):\n",
    "        x, y = data[0].float(), data[1].float()\n",
    "\n",
    "        optimizer.zero_grad()\n",
    "        outputs = model(x)\n",
    "        loss = loss_fn(outputs, y.view(-1, 1))\n",
    "\n",
    "        loss.backward()\n",
    "        train_loss += loss.item()\n",
    "        optimizer.step()\n",
    "\n",
    "    return train_loss\n",
    "\n",
    "\n",
    "def val_epoch(model, val_dataloader):\n",
    "    loss_fn = nn.BCELoss()\n",
    "    model.train(False)\n",
    "    val_loss = 0\n",
    "    for batch_idx, data in enumerate(val_dataloader):\n",
    "\n",
    "        x, y = data[0].float(), data[1].float()\n",
    "\n",
    "        outputs = model(x)\n",
    "        loss = loss_fn(outputs, y.view(-1, 1))\n",
    "\n",
    "        val_loss += loss.item()\n",
    "    return val_loss\n"
   ]
  },
  {
   "cell_type": "code",
   "execution_count": 13,
   "metadata": {},
   "outputs": [
    {
     "name": "stdout",
     "output_type": "stream",
     "text": [
      "-------- Epoch 000 --------\n",
      "Epoch 000: training loss 000.0065,validation loss 000.0050\n",
      "-------- Epoch 001 --------\n",
      "Epoch 001: training loss 000.0048,validation loss 000.0042\n",
      "-------- Epoch 002 --------\n",
      "Epoch 002: training loss 000.0041,validation loss 000.0038\n",
      "-------- Epoch 003 --------\n",
      "Epoch 003: training loss 000.0038,validation loss 000.0036\n",
      "-------- Epoch 004 --------\n",
      "Epoch 004: training loss 000.0036,validation loss 000.0034\n",
      "-------- Epoch 005 --------\n",
      "Epoch 005: training loss 000.0034,validation loss 000.0033\n",
      "-------- Epoch 006 --------\n",
      "Epoch 006: training loss 000.0034,validation loss 000.0033\n",
      "-------- Epoch 007 --------\n",
      "Epoch 007: training loss 000.0033,validation loss 000.0032\n",
      "-------- Epoch 008 --------\n",
      "Epoch 008: training loss 000.0033,validation loss 000.0032\n",
      "-------- Epoch 009 --------\n",
      "Epoch 009: training loss 000.0032,validation loss 000.0032\n"
     ]
    }
   ],
   "source": [
    "##\n",
    "# Initialize the model and train for 10 epochs.\n",
    "# NOTE: Since the model and data were so small,\n",
    "# I was able to run all of this on the cpu of my laptop in about 15-30 min,\n",
    "# but putting the data and model on GPU instead would save you a lot of time.\n",
    "##\n",
    "\n",
    "DMLModel = DML(24, 20)\n",
    "\n",
    "train_dataloader = torch.utils.data.DataLoader(\n",
    "    rbd_train,\n",
    "    batch_size=64,\n",
    "    shuffle=True,\n",
    "    num_workers=2)\n",
    "val_dataloader = torch.utils.data.DataLoader(\n",
    "    rbd_val,\n",
    "    batch_size=64,\n",
    "    shuffle=False,\n",
    "    num_workers=2)\n",
    "\n",
    "lr = 3e-4\n",
    "optimizer = optim.Adam(DMLModel.parameters(), lr=3e-4)\n",
    "\n",
    "best_loss = None\n",
    "max_epochs = 10\n",
    "for i_epoch in range(max_epochs):\n",
    "    print(\"-------- Epoch {:03d} --------\".format(i_epoch))\n",
    "\n",
    "    trainloss = train_epoch(DMLModel, optimizer, train_dataloader)\n",
    "    trainloss /= len(rbd_train)\n",
    "    valloss = val_epoch(DMLModel, val_dataloader)\n",
    "    valloss /= len(rbd_val)\n",
    "\n",
    "    # only save if improvement\n",
    "    if best_loss is None or valloss < best_loss:\n",
    "        best_loss = valloss\n",
    "    else:\n",
    "        lr = lr/10.\n",
    "        optimizer = optim.Adam(DMLModel.parameters(), lr=lr)\n",
    "\n",
    "    logstr = \"Epoch {:03d}: \".format(i_epoch) +\\\n",
    "        \"training loss {:08.4f},\".format(trainloss) +\\\n",
    "        \"validation loss {:08.4f}\".format(valloss)\n",
    "    print(logstr)\n"
   ]
  },
  {
   "cell_type": "markdown",
   "metadata": {},
   "source": [
    "# Finding Interactions with the Embedding Explainer\n"
   ]
  },
  {
   "cell_type": "code",
   "execution_count": 14,
   "metadata": {},
   "outputs": [],
   "source": [
    "##\n",
    "# Since our input is a 2d embedding sequence, we want to use the embedding explainer\n",
    "# to generate interactions\n",
    "##\n",
    "\n",
    "from embedding_explainer_torch import EmbeddingExplainerTorch\n"
   ]
  },
  {
   "cell_type": "code",
   "execution_count": 15,
   "metadata": {},
   "outputs": [],
   "source": [
    "##\n",
    "# We want to explain the pre-sigmoid output so that the explanations are in\n",
    "# terms of log odds rather than probability\n",
    "##\n",
    "\n",
    "explainer = EmbeddingExplainerTorch(DMLModel.network)\n"
   ]
  },
  {
   "cell_type": "code",
   "execution_count": 32,
   "metadata": {},
   "outputs": [],
   "source": [
    "##\n",
    "# For our expected hessians formulation, we need an input tensor\n",
    "# (the sequences we want to generate explanations for), as well as a background tensor\n",
    "# (normally the training dataset, sequences we want to use as a reference).\n",
    "##\n",
    "\n",
    "# get explanations for the first 10 sequences in the validation set\n",
    "inp = torch.tensor(one_hot_sequences_val[:10, :, :]).float()\n",
    "# where the whole training dataset is used as a background reference\n",
    "base = torch.tensor(one_hot_sequences_val).float()\n"
   ]
  },
  {
   "cell_type": "code",
   "execution_count": 33,
   "metadata": {},
   "outputs": [],
   "source": [
    "##\n",
    "# Use the interactions method of the embedding explainer object to generate\n",
    "# Expected Hessians interactions.\n",
    "##\n",
    "\n",
    "interactions = explainer.interactions(inp, base, use_expectation=True)\n"
   ]
  },
  {
   "cell_type": "code",
   "execution_count": 18,
   "metadata": {},
   "outputs": [],
   "source": [
    "##\n",
    "# import seaborn and matplotlib to plot results\n",
    "##\n",
    "\n",
    "import seaborn as sb\n",
    "import matplotlib.pyplot as plt\n"
   ]
  },
  {
   "cell_type": "code",
   "execution_count": 37,
   "metadata": {},
   "outputs": [
    {
     "data": {
      "image/png": "[encoded data removed]",
      "text/plain": [
       "<Figure size 576x504 with 2 Axes>"
      ]
     },
     "metadata": {
      "needs_background": "light"
     },
     "output_type": "display_data"
    }
   ],
   "source": [
    "val_sequence_ind = 1\n",
    "\n",
    "\n",
    "plt.figure(figsize=(8, 7))\n",
    "# break down sequence for tick labels\n",
    "amino_acid_peptide_list = [\n",
    "    aa for aa in ace2_val.junction_aa.values[val_sequence_ind]]\n",
    "# NOTE: it's important to set the vmax and vmin symmetrically for the diverging colormap\n",
    "# so that 0 is the lowest intensity value\n",
    "ax = sb.heatmap(interactions[0, val_sequence_ind, :, :], cmap='RdBu', vmax=2.0, vmin=-2.0,\n",
    "                yticklabels=amino_acid_peptide_list,\n",
    "                xticklabels=amino_acid_peptide_list)\n",
    "ax.tick_params(axis='y', labelrotation=0)\n",
    "plt.show()\n"
   ]
  },
  {
   "cell_type": "markdown",
   "metadata": {},
   "source": [
    "On the diagonals of the plot above, we see the \"main effects\" of each amino acid in the sequence, while off-diagonal we see the non-additive effects of each pair of amino acids being present in combination with each other. So, for example, we can see that while the tryptophan at position 17 has very little main effect, in conjunction with the tryptophan at position 20 there is an interaction that decreases the likelihood of ACE2 binding.\n"
   ]
  },
  {
   "cell_type": "code",
   "execution_count": 43,
   "metadata": {},
   "outputs": [
    {
     "data": {
      "image/png": "[encoded data removed]",
      "text/plain": [
       "<Figure size 576x504 with 2 Axes>"
      ]
     },
     "metadata": {
      "needs_background": "light"
     },
     "output_type": "display_data"
    }
   ],
   "source": [
    "val_sequence_ind = 8\n",
    "\n",
    "\n",
    "plt.figure(figsize=(8, 7))\n",
    "# break down sequence for tick labels\n",
    "amino_acid_peptide_list = [\n",
    "    aa for aa in ace2_val.junction_aa.values[val_sequence_ind]]\n",
    "# NOTE: it's important to set the vmax and vmin symmetrically for the diverging colormap\n",
    "# so that 0 is the lowest intensity value\n",
    "ax = sb.heatmap(interactions[0, val_sequence_ind, :, :], cmap='RdBu', vmax=2.0, vmin=-2.0,\n",
    "                yticklabels=amino_acid_peptide_list,\n",
    "                xticklabels=amino_acid_peptide_list)\n",
    "ax.tick_params(axis='y', labelrotation=0)\n",
    "plt.show()\n"
   ]
  },
  {
   "cell_type": "markdown",
   "metadata": {},
   "source": [
    "So again, on the diagonals of this plot above, we see the \"main effects\" of each amino acid in the sequence, while off-diagonal we see the non-additive effects of each pair of amino acids being present in combination with each other. In this sequence, we can see that the main effect of the aspartate at position 12 is to decrease the likelihood of ACE2 binding, but in conjunction with the proline at position 20, there is an interaction that gives some increased likelihood of ACE2 binding.\n"
   ]
  },
  {
   "cell_type": "code",
   "execution_count": null,
   "metadata": {},
   "outputs": [],
   "source": []
  }
 ],
 "metadata": {
  "kernelspec": {
   "display_name": "Python 3",
   "language": "python",
   "name": "python3"
  },
  "language_info": {
   "codemirror_mode": {
    "name": "ipython",
    "version": 3
   },
   "file_extension": ".py",
   "mimetype": "text/x-python",
   "name": "python",
   "nbconvert_exporter": "python",
   "pygments_lexer": "ipython3",
   "version": "3.9.16"
  }
 },
 "nbformat": 4,
 "nbformat_minor": 2
}
